{
 "cells": [
  {
   "cell_type": "code",
   "execution_count": 40,
   "metadata": {
    "collapsed": false
   },
   "outputs": [],
   "source": [
    "import numpy as np\n",
    "import pandas as pd\n",
    "import hyperopt\n",
    "\n",
    "from hyperopt import hp, fmin, tpe\n",
    "\n",
    "from time import time\n",
    "\n",
    "from sklearn.metrics import accuracy_score, roc_auc_score\n",
    "\n",
    "%run ../src/Munger.py\n",
    "%run ../src/Models.py\n",
    "%run ../src/utils.py"
   ]
  },
  {
   "cell_type": "code",
   "execution_count": 34,
   "metadata": {
    "collapsed": false
   },
   "outputs": [],
   "source": [
    "# load dataset\n",
    "numer_ai = pd.read_csv('../data/numerai_datasets/numerai_training_data.csv')\n",
    "test = pd.read_csv('../data/numerai_datasets/numerai_tournament_data.csv')"
   ]
  },
  {
   "cell_type": "code",
   "execution_count": 35,
   "metadata": {
    "collapsed": true
   },
   "outputs": [],
   "source": [
    "# split into training and validation sets as per the competition instructions\n",
    "train = numer_ai[numer_ai.validation == 0]\n",
    "validation = numer_ai[numer_ai.validation == 1]"
   ]
  },
  {
   "cell_type": "code",
   "execution_count": 38,
   "metadata": {
    "collapsed": false
   },
   "outputs": [
    {
     "name": "stderr",
     "output_type": "stream",
     "text": [
      "C:\\Users\\Abhishek\\Anaconda2\\lib\\site-packages\\pandas\\core\\indexing.py:266: SettingWithCopyWarning: \n",
      "A value is trying to be set on a copy of a slice from a DataFrame.\n",
      "Try using .loc[row_indexer,col_indexer] = value instead\n",
      "\n",
      "See the caveats in the documentation: http://pandas.pydata.org/pandas-docs/stable/indexing.html#indexing-view-versus-copy\n",
      "  self.obj[key] = _infer_fill_value(value)\n",
      "C:\\Users\\Abhishek\\Anaconda2\\lib\\site-packages\\pandas\\core\\indexing.py:426: SettingWithCopyWarning: \n",
      "A value is trying to be set on a copy of a slice from a DataFrame.\n",
      "Try using .loc[row_indexer,col_indexer] = value instead\n",
      "\n",
      "See the caveats in the documentation: http://pandas.pydata.org/pandas-docs/stable/indexing.html#indexing-view-versus-copy\n",
      "  self.obj[item] = s\n"
     ]
    }
   ],
   "source": [
    "munger = Munger(train, validation, test)\n",
    "munger.remove_correlated_features()\n",
    "munger.label_encoding()"
   ]
  },
  {
   "cell_type": "code",
   "execution_count": 39,
   "metadata": {
    "collapsed": true
   },
   "outputs": [],
   "source": [
    "X_train = munger.X\n",
    "y_train = munger.y\n",
    "\n",
    "X_validation = munger.X_validation\n",
    "y_validation = munger.y_validation\n",
    "\n",
    "X_test = munger.X_test"
   ]
  },
  {
   "cell_type": "code",
   "execution_count": 42,
   "metadata": {
    "collapsed": true
   },
   "outputs": [],
   "source": [
    "model = Models()\n",
    "clf = model.logistic_regression_model()"
   ]
  },
  {
   "cell_type": "code",
   "execution_count": 56,
   "metadata": {
    "collapsed": false
   },
   "outputs": [],
   "source": [
    "def run_wrapper(params):\n",
    "    s = time()\n",
    "    auc = run_test( params )\n",
    "    \n",
    "    print\n",
    "    print \"Area Under Curve:\", auc\n",
    "    print \"elapsed: {}s \\n\".format( int( round( time() - s )))\n",
    "    \n",
    "    return auc\n",
    "\n",
    "def run_test( params ):\n",
    "    C, class_weight, penalty = params\n",
    "    \n",
    "    clf.fit( X_train, y_train )\n",
    "    p = clf.predict_proba( X_validation )[:, 1]\n",
    "    \n",
    "    auc = roc_auc_score( y_validation, p )\n",
    "    \n",
    "    return auc "
   ]
  },
  {
   "cell_type": "code",
   "execution_count": 57,
   "metadata": {
    "collapsed": true
   },
   "outputs": [],
   "source": [
    "space = (\n",
    "        hp.choice( 'C', [0.1, 0.5, 1.0, 3.0]),\n",
    "        hp.choice( 'class_weight', [None, 'auto']),\n",
    "        hp.choice( 'penalty', ['l2', 'l1'])\n",
    ")"
   ]
  },
  {
   "cell_type": "code",
   "execution_count": null,
   "metadata": {
    "collapsed": false
   },
   "outputs": [],
   "source": [
    "start_time = time()\n",
    "best = fmin( run_wrapper, space, \n",
    "             algo = tpe.suggest, max_evals=3)\n",
    "end_time = time()\n",
    "\n",
    "print 'Seconds passed:', int(round( end_time - start_time ))\n",
    "\n",
    "print best"
   ]
  },
  {
   "cell_type": "code",
   "execution_count": null,
   "metadata": {
    "collapsed": true
   },
   "outputs": [],
   "source": []
  },
  {
   "cell_type": "code",
   "execution_count": null,
   "metadata": {
    "collapsed": true
   },
   "outputs": [],
   "source": []
  },
  {
   "cell_type": "code",
   "execution_count": null,
   "metadata": {
    "collapsed": true
   },
   "outputs": [],
   "source": []
  }
 ],
 "metadata": {
  "kernelspec": {
   "display_name": "Python 2",
   "language": "python",
   "name": "python2"
  },
  "language_info": {
   "codemirror_mode": {
    "name": "ipython",
    "version": 2
   },
   "file_extension": ".py",
   "mimetype": "text/x-python",
   "name": "python",
   "nbconvert_exporter": "python",
   "pygments_lexer": "ipython2",
   "version": "2.7.11"
  }
 },
 "nbformat": 4,
 "nbformat_minor": 0
}

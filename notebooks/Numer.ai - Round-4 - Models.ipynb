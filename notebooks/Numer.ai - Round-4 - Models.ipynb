{
 "cells": [
  {
   "cell_type": "code",
   "execution_count": 1,
   "metadata": {
    "collapsed": true
   },
   "outputs": [],
   "source": [
    "import pandas as pd\n",
    "import numpy as np\n",
    "\n",
    "from sklearn.cross_validation import train_test_split, cross_val_score, StratifiedKFold\n",
    "from sklearn.metrics import log_loss\n",
    "\n",
    "from sklearn.feature_selection import SelectKBest, chi2\n",
    "from sklearn.linear_model import LogisticRegression\n",
    "from sklearn.ensemble import ExtraTreesClassifier\n",
    "from sklearn.decomposition import KernelPCA, PCA\n",
    "from sklearn.svm import SVC\n",
    "\n",
    "from sklearn.pipeline import Pipeline\n",
    "\n",
    "from sklearn.learning_curve import learning_curve\n",
    "\n",
    "import matplotlib.pyplot as plt\n",
    "import seaborn as sns\n",
    "\n",
    "%matplotlib inline"
   ]
  },
  {
   "cell_type": "code",
   "execution_count": null,
   "metadata": {
    "collapsed": true
   },
   "outputs": [],
   "source": [
    "## "
   ]
  },
  {
   "cell_type": "code",
   "execution_count": 2,
   "metadata": {
    "collapsed": true
   },
   "outputs": [],
   "source": [
    "# load datasets\n",
    "train = pd.read_csv('../data/numerai_datasets/numerai_training_data.csv')\n",
    "test_df = pd.read_csv('../data/numerai_datasets/numerai_tournament_data.csv', index_col='t_id')"
   ]
  },
  {
   "cell_type": "code",
   "execution_count": 3,
   "metadata": {
    "collapsed": true
   },
   "outputs": [],
   "source": [
    "# create a feature set\n",
    "features = train.columns.drop('target')\n",
    "\n",
    "X = train[features]\n",
    "y = train.target"
   ]
  },
  {
   "cell_type": "code",
   "execution_count": 4,
   "metadata": {
    "collapsed": true
   },
   "outputs": [],
   "source": [
    "# set a random seed\n",
    "np.random.seed(1279)"
   ]
  },
  {
   "cell_type": "code",
   "execution_count": 5,
   "metadata": {
    "collapsed": true
   },
   "outputs": [],
   "source": [
    "# create a train and test split\n",
    "X_train, X_test, y_train, y_test = train_test_split(X, y, test_size=0.33, random_state=4)"
   ]
  },
  {
   "cell_type": "code",
   "execution_count": 47,
   "metadata": {
    "collapsed": false
   },
   "outputs": [],
   "source": [
    "# feature selection\n",
    "select = SelectKBest(chi2, k=7)\n",
    "\n",
    "# dimensionality reduction ( Kernel PCA )\n",
    "# kpca = KernelPCA(n_components=2, kernel='linear')\n",
    "\n",
    "# dimensionality reduction ( PCA)\n",
    "pca = PCA(n_components=2, whiten=True)\n",
    "\n",
    "# linear model\n",
    "# clf = LogisticRegression(C=1.)\n",
    "\n",
    "# extra trees classifier\n",
    "clf = ExtraTreesClassifier(n_estimators=500, max_depth=3, min_samples_split=5, min_samples_leaf=5, n_jobs=-1)\n",
    "\n",
    "# support vector machine\n",
    "# clf = SVC()\n",
    "\n",
    "# pipeline with feature selection, kernel pca and classifier\n",
    "# pipeline = Pipeline([('select', select), ('kpca', kpca), ('clf', clf)])\n",
    "\n",
    "# pipeline with feature selection, pca and classifier\n",
    "pipeline = Pipeline([('select', select), ('pca', pca), ('clf', clf)])\n",
    "\n",
    "# pipeline with kernel pca and only classifier\n",
    "# pipeline = Pipeline([('kpca', kpca), ('clf', clf)])\n",
    "\n",
    "# pipeline with PCA and non-linear classifier\n",
    "# pipeline = Pipeline([('pca', pca), ('clf', clf)])"
   ]
  },
  {
   "cell_type": "code",
   "execution_count": 48,
   "metadata": {
    "collapsed": false
   },
   "outputs": [
    {
     "name": "stdout",
     "output_type": "stream",
     "text": [
      "Fold: 1, Class dist: [17130 17704], Log loss: 0.692 \n",
      "Fold: 2, Class dist: [17130 17704], Log loss: 0.692 \n",
      "Fold: 3, Class dist: [17130 17705], Log loss: 0.693 \n",
      "Fold: 4, Class dist: [17130 17705], Log loss: 0.692 \n",
      "Fold: 5, Class dist: [17131 17705], Log loss: 0.692 \n",
      "Fold: 6, Class dist: [17131 17705], Log loss: 0.692 \n",
      "Fold: 7, Class dist: [17131 17705], Log loss: 0.692 \n",
      "Fold: 8, Class dist: [17131 17705], Log loss: 0.692 \n",
      "Fold: 9, Class dist: [17131 17705], Log loss: 0.692 \n",
      "Fold: 10, Class dist: [17131 17705], Log loss: 0.692 \n"
     ]
    }
   ],
   "source": [
    "# cross validation\n",
    "skf = StratifiedKFold(y_train, n_folds=10, random_state=1)\n",
    "\n",
    "scores = []\n",
    "\n",
    "for k, (train, test) in enumerate(skf):\n",
    "    pipeline.fit(X_train.iloc[train], y_train.iloc[train])\n",
    "    \n",
    "    if hasattr(pipeline, 'predict_proba'):\n",
    "        score = log_loss(y_train.iloc[test], pipeline.predict_proba(X_train.iloc[test])[:, 1])\n",
    "    else:\n",
    "        score = log_loss(y_train.iloc[test], pipeline.decision_function(X_train.iloc[test]))\n",
    "        \n",
    "    scores.append(score)\n",
    "    \n",
    "    print 'Fold: %s, Class dist: %s, Log loss: %.3f ' %(k+1, np.bincount(y_train.iloc[train]), score)"
   ]
  },
  {
   "cell_type": "code",
   "execution_count": 49,
   "metadata": {
    "collapsed": false
   },
   "outputs": [
    {
     "name": "stdout",
     "output_type": "stream",
     "text": [
      "CV accuracy: 0.692 +/- 0.000 \n"
     ]
    }
   ],
   "source": [
    "print 'CV accuracy: %.3f +/- %.3f ' %(\n",
    "            np.mean(scores), np.std(scores))"
   ]
  },
  {
   "cell_type": "code",
   "execution_count": null,
   "metadata": {
    "collapsed": true
   },
   "outputs": [],
   "source": [
    "## Learning curves\n",
    "train_sizes, train_scores, test_scores = \\\n",
    "    learning_curve(estimator=pipeline,\n",
    "                   X=X_train,\n",
    "                   y=y_train,\n",
    "                   train_sizes=np.linspace(.1, 1.0, 5),\n",
    "                   cv=5,\n",
    "                   scoring='log_loss',\n",
    "                   n_jobs=1)"
   ]
  },
  {
   "cell_type": "code",
   "execution_count": null,
   "metadata": {
    "collapsed": true
   },
   "outputs": [],
   "source": [
    "train_mean = np.mean(train_scores, axis=1)\n",
    "train_std = np.std(train_scores, axis=1)\n",
    "\n",
    "test_mean = np.mean(test_scores, axis=1)\n",
    "test_std = np.std(test_scores, axis=1)"
   ]
  },
  {
   "cell_type": "code",
   "execution_count": null,
   "metadata": {
    "collapsed": false
   },
   "outputs": [],
   "source": [
    "# plot learning curve\n",
    "plt.plot(train_sizes, train_mean,\n",
    "         color='blue', marker='o',\n",
    "         markersize=5,\n",
    "         label='training_accuracy')\n",
    "\n",
    "plt.fill_between(train_sizes,\n",
    "                 train_mean + train_std,\n",
    "                 train_mean - train_std,\n",
    "                 alpha=0.15, color='blue')\n",
    "\n",
    "plt.plot(train_sizes, test_mean,\n",
    "         color='blue', linestyle='--',\n",
    "         marker='s',\n",
    "         markersize=5,\n",
    "         label='validation_accuracy')\n",
    "\n",
    "plt.fill_between(train_sizes,\n",
    "                 test_mean + test_std,\n",
    "                 test_mean - test_std,\n",
    "                 alpha=0.15, color='green')\n",
    "\n",
    "plt.legend(loc='best')\n",
    "plt.show();"
   ]
  },
  {
   "cell_type": "code",
   "execution_count": 50,
   "metadata": {
    "collapsed": false
   },
   "outputs": [
    {
     "name": "stdout",
     "output_type": "stream",
     "text": [
      "Log Loss: 0.692 \n"
     ]
    }
   ],
   "source": [
    "## test on the hold out set\n",
    "print 'Log Loss: %.3f ' %(log_loss(y_test, pipeline.predict_proba(X_test)[:, 1]))"
   ]
  },
  {
   "cell_type": "code",
   "execution_count": 51,
   "metadata": {
    "collapsed": false
   },
   "outputs": [
    {
     "data": {
      "text/plain": [
       "Pipeline(steps=[('select', SelectKBest(k=7, score_func=<function chi2 at 0x11369ab18>)), ('pca', PCA(copy=True, n_components=2, whiten=True)), ('clf', ExtraTreesClassifier(bootstrap=False, class_weight=None, criterion='gini',\n",
       "           max_depth=3, max_features='auto', max_leaf_nodes=None,\n",
       "           min_samples_leaf=5, min_samples_split=5,\n",
       "           min_weight_fraction_leaf=0.0, n_estimators=500, n_jobs=-1,\n",
       "           oob_score=False, random_state=None, verbose=0, warm_start=False))])"
      ]
     },
     "execution_count": 51,
     "metadata": {},
     "output_type": "execute_result"
    }
   ],
   "source": [
    "## train on the full data set\n",
    "pipeline.fit(X, y)"
   ]
  },
  {
   "cell_type": "code",
   "execution_count": 52,
   "metadata": {
    "collapsed": false
   },
   "outputs": [],
   "source": [
    "# predictions on the test set\n",
    "predictions = pipeline.predict_proba(test_df[features])[:, 1]"
   ]
  },
  {
   "cell_type": "code",
   "execution_count": 53,
   "metadata": {
    "collapsed": true
   },
   "outputs": [],
   "source": [
    "# prepare submission\n",
    "submission = pd.read_csv('../data/numerai_datasets/numerai_example_predictions.csv')\n",
    "submission.loc[:, 'probability'] = predictions\n",
    "submission.to_csv('../submissions/feature_selection_dim_reduction_non_lin_classifier.csv', index=False)"
   ]
  },
  {
   "cell_type": "code",
   "execution_count": null,
   "metadata": {
    "collapsed": true
   },
   "outputs": [],
   "source": []
  }
 ],
 "metadata": {
  "kernelspec": {
   "display_name": "Python 2",
   "language": "python",
   "name": "python2"
  },
  "language_info": {
   "codemirror_mode": {
    "name": "ipython",
    "version": 2
   },
   "file_extension": ".py",
   "mimetype": "text/x-python",
   "name": "python",
   "nbconvert_exporter": "python",
   "pygments_lexer": "ipython2",
   "version": "2.7.11"
  }
 },
 "nbformat": 4,
 "nbformat_minor": 0
}
